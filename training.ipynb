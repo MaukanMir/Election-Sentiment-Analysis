{
 "cells": [
  {
   "cell_type": "markdown",
   "metadata": {},
   "source": [
    "# 2024 U.S. Election Sentiment on X"
   ]
  },
  {
   "cell_type": "markdown",
   "metadata": {},
   "source": [
    "# Imports"
   ]
  },
  {
   "cell_type": "code",
   "execution_count": 1,
   "metadata": {},
   "outputs": [],
   "source": [
    "import pandas as pd\n",
    "import numpy as np\n",
    "import seaborn as sns\n",
    "import matplotlib.pyplot as plt\n",
    "import re\n",
    "\n",
    "# import nltk\n",
    "from nltk.tokenize import word_tokenize\n",
    "from nltk.stem.wordnet import WordNetLemmatizer\n",
    "from transformers import AutoTokenizer\n",
    "\n",
    "from sklearn.decomposition import LatentDirichletAllocation\n",
    "from sklearn.feature_extraction.text import ENGLISH_STOP_WORDS, CountVectorizer\n",
    "from sklearn.preprocessing import LabelEncoder\n",
    "\n",
    "from tensorflow.keras.models import Sequential\n",
    "from tensorflow.keras.layers import Dense, Embedding, Bidirectional, LSTM\n",
    "from tensorflow.keras.callbacks import EarlyStopping\n",
    "from tensorflow.keras.utils import to_categorical\n",
    "import tensorflow as tf\n",
    "\n",
    "import torch \n",
    "from transformers import AutoModelForCausalLM, AutoModelForSequenceClassification, pipeline"
   ]
  },
  {
   "cell_type": "markdown",
   "metadata": {},
   "source": [
    "# Functions"
   ]
  },
  {
   "cell_type": "code",
   "execution_count": 2,
   "metadata": {},
   "outputs": [],
   "source": [
    "def check_class_imbalance(target):\n",
    "  unique, counts = np.unique(target, return_counts=True)\n",
    "  plt.figure(figsize=(10, 7))\n",
    "  plt.pie(counts, labels=unique, startangle=140, autopct=\"%1.1f%%\")\n",
    "  plt.legend()\n",
    "  plt.show()\n",
    "  \n",
    "  plt.figure(figsize=(10, 7))\n",
    "  sns.countplot(x=target)\n",
    "  plt.xlabel(\"Target Class Breakdown\")\n",
    "  plt.ylabel(\"Counts\")\n",
    "  plt.xticks(rotation=45)\n",
    "  plt.show()\n",
    "\n",
    "def check_nulls_dupes(df):\n",
    "  print(f\"The Amount of Nulls: {df.isna().sum()}\")\n",
    "  print(f\"The Amount of Dupes: {df.duplicated().sum()}\")\n",
    "\n",
    "def remove_stop_words(content):\n",
    "  word_tokens = \" \".join(word_tokenize(content))\n",
    "  filtered_tokens = re.sub(r\"[^a-zA-Z\\s]\", \"\", word_tokens).split(\" \")\n",
    "  filtered_word_tokens = [w.lower().strip() for w in filtered_tokens if w.lower() not in ENGLISH_STOP_WORDS]\n",
    "  return \" \".join(filtered_word_tokens).strip()\n",
    "\n",
    "def lemmatize_words(content):\n",
    "  \n",
    "  lemma = WordNetLemmatizer()\n",
    "  \n",
    "  stop_free = \" \".join([ word for word in content.lower().split() if word not in ENGLISH_STOP_WORDS])\n",
    "  punc_free = \"\".join(re.sub(r\"[^a-zA-Z\\s]\", \"\", stop_free))\n",
    "  lemmatize_words = \" \".join([lemma.lemmatize(word) for word in punc_free.split()])\n",
    "  return lemmatize_words\n",
    "\n",
    "def display_topics(model, feature_names, no_top_words):\n",
    "    for topic_idx, topic in enumerate(model.components_):\n",
    "        print(\"Topic %d:\" % (topic_idx))\n",
    "        print(\" \".join([feature_names[i] for i in topic.argsort()[:-no_top_words - 1:-1]]))\n",
    "\n",
    "def dist_plot(df):\n",
    "  \n",
    "  for col in df.columns:\n",
    "    salary_skewness = df[col].skew()\n",
    "    salary_kurtosis = df[col].kurtosis()\n",
    "\n",
    "    plt.figure(figsize=(10, 6))\n",
    "    sns.histplot(df[col], kde=True, color='blue')\n",
    "    plt.title(f'Distribution of {col} with Skewness and Kurtosis')\n",
    "    plt.xlabel(col)\n",
    "    plt.ylabel('Frequency')\n",
    "\n",
    "    plt.text(x=0.95, y=0.85, s=f\"Skewness: {salary_skewness:.2f}\", transform=plt.gca().transAxes, horizontalalignment='right')\n",
    "    plt.text(x=0.95, y=0.80, s=f\"Kurtosis: {salary_kurtosis:.2f}\", transform=plt.gca().transAxes, horizontalalignment='right')\n",
    "\n",
    "    plt.grid(True)\n",
    "    plt.show()"
   ]
  },
  {
   "cell_type": "markdown",
   "metadata": {},
   "source": [
    "# EDA Analysis"
   ]
  },
  {
   "cell_type": "code",
   "execution_count": null,
   "metadata": {},
   "outputs": [],
   "source": [
    "train, test, val = None, None, None\n",
    "paths = [\"train\", \"val\", \"test\"]\n",
    "\n",
    "for path in paths:\n",
    "  train = pd.read_csv(f\"/Users/maukanmir/Downloads/archive/{path}csv\")"
   ]
  }
 ],
 "metadata": {
  "kernelspec": {
   "display_name": "machine-learning-env",
   "language": "python",
   "name": "python3"
  },
  "language_info": {
   "codemirror_mode": {
    "name": "ipython",
    "version": 3
   },
   "file_extension": ".py",
   "mimetype": "text/x-python",
   "name": "python",
   "nbconvert_exporter": "python",
   "pygments_lexer": "ipython3",
   "version": "3.9.19"
  }
 },
 "nbformat": 4,
 "nbformat_minor": 2
}
